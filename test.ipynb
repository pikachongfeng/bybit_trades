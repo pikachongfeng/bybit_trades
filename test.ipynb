{
 "cells": [
  {
   "cell_type": "code",
   "execution_count": 3,
   "metadata": {},
   "outputs": [
    {
     "data": {
      "text/plain": [
       "['1729164600000',\n",
       " '66896.5',\n",
       " '66932.1',\n",
       " '66894.8',\n",
       " '66921.4',\n",
       " '77.465',\n",
       " '5182889.2186']"
      ]
     },
     "execution_count": 3,
     "metadata": {},
     "output_type": "execute_result"
    }
   ],
   "source": [
    "import time\n",
    "import requests\n",
    "now_time = int(time.time())\n",
    "url = \"https://api.bybit.com/v5/market/kline\"\n",
    "params = {\n",
    "    \"symbol\": 'BTCUSDT',\n",
    "    \"interval\": \"1\",  # 1分钟K线\n",
    "    \"start\": (now_time - 60)*1000,  # 获取最近1分钟的K线\n",
    "    \"end\": (now_time)*1000,  # 获取最近1分钟的K线\n",
    "}\n",
    "response = requests.get(url, params=params).json()\n",
    "response['result']['list'][-1]"
   ]
  },
  {
   "cell_type": "code",
   "execution_count": 4,
   "metadata": {},
   "outputs": [
    {
     "name": "stdout",
     "output_type": "stream",
     "text": [
      "[datetime.datetime(2021, 10, 17, 8, 40), datetime.datetime(2021, 10, 17, 8, 41), datetime.datetime(2021, 10, 17, 8, 42), datetime.datetime(2021, 10, 17, 8, 43), datetime.datetime(2021, 10, 17, 8, 44), datetime.datetime(2021, 10, 17, 8, 45)]\n"
     ]
    }
   ],
   "source": [
    "from datetime import datetime, timedelta\n",
    "\n",
    "def timestamps_to_datetime_list(timestamp1, timestamp2):\n",
    "    dt_list = []\n",
    "    start_dt = datetime.utcfromtimestamp(min(timestamp1, timestamp2))\n",
    "    end_dt = datetime.utcfromtimestamp(max(timestamp1, timestamp2))\n",
    "\n",
    "    current_dt = start_dt\n",
    "    while current_dt <= end_dt:\n",
    "        dt_list.append(current_dt)\n",
    "        current_dt += timedelta(minutes=1)\n",
    "\n",
    "    return dt_list\n",
    "\n",
    "# 示例用法\n",
    "timestamp1 = 1634460000  # 替换为你的第一个timestamp\n",
    "timestamp2 = 1634460300  # 替换为你的第二个timestamp\n",
    "result = timestamps_to_datetime_list(timestamp1, timestamp2)\n",
    "print(result)"
   ]
  },
  {
   "cell_type": "code",
   "execution_count": 5,
   "metadata": {},
   "outputs": [
    {
     "data": {
      "text/plain": [
       "1729164741"
      ]
     },
     "execution_count": 5,
     "metadata": {},
     "output_type": "execute_result"
    }
   ],
   "source": [
    "int(time.time())"
   ]
  }
 ],
 "metadata": {
  "kernelspec": {
   "display_name": "Python 3",
   "language": "python",
   "name": "python3"
  },
  "language_info": {
   "codemirror_mode": {
    "name": "ipython",
    "version": 3
   },
   "file_extension": ".py",
   "mimetype": "text/x-python",
   "name": "python",
   "nbconvert_exporter": "python",
   "pygments_lexer": "ipython3",
   "version": "3.11.4"
  }
 },
 "nbformat": 4,
 "nbformat_minor": 2
}
