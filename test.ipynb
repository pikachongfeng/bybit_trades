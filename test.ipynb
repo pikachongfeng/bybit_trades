{
 "cells": [
  {
   "cell_type": "code",
   "execution_count": null,
   "metadata": {},
   "outputs": [],
   "source": [
    "import time\n",
    "import requests\n",
    "now_time = int(time.time())\n",
    "url = \"https://api.bybit.com/v5/market/kline\"\n",
    "params = {\n",
    "    \"symbol\": 'BTCUSDT',\n",
    "    \"interval\": \"1\",  # 1分钟K线\n",
    "    \"start\": (now_time - 60)*1000,  # 获取最近1分钟的K线\n",
    "    \"end\": (now_time)*1000,  # 获取最近1分钟的K线\n",
    "}\n",
    "response = requests.get(url, params=params).json()\n",
    "response['result']['list'][-1]"
   ]
  },
  {
   "cell_type": "code",
   "execution_count": null,
   "metadata": {},
   "outputs": [],
   "source": [
    "from datetime import datetime, timedelta\n",
    "\n",
    "def timestamps_to_datetime_list(timestamp1, timestamp2):\n",
    "    dt_list = []\n",
    "    start_dt = datetime.utcfromtimestamp(min(timestamp1, timestamp2))\n",
    "    end_dt = datetime.utcfromtimestamp(max(timestamp1, timestamp2))\n",
    "\n",
    "    current_dt = start_dt\n",
    "    while current_dt <= end_dt:\n",
    "        dt_list.append(current_dt)\n",
    "        current_dt += timedelta(minutes=1)\n",
    "\n",
    "    return dt_list\n",
    "\n",
    "# 示例用法\n",
    "timestamp1 = 1634460000  # 替换为你的第一个timestamp\n",
    "timestamp2 = 1634460300  # 替换为你的第二个timestamp\n",
    "result = timestamps_to_datetime_list(timestamp1, timestamp2)\n",
    "print(result)"
   ]
  },
  {
   "cell_type": "code",
   "execution_count": 4,
   "metadata": {},
   "outputs": [
    {
     "name": "stdout",
     "output_type": "stream",
     "text": [
      " Fetching BNBUSDT new bar for 2024-01-23 10:00  ⢿                \u001b[K"
     ]
    },
    {
     "name": "stderr",
     "output_type": "stream",
     "text": [
      "/usr/local/lib/python3.10/site-packages/easy_kline/response_to_json.py:33: FutureWarning: The behavior of 'to_datetime' with 'unit' when parsing strings is deprecated. In a future version, strings will be parsed as datetime strings, matching the behavior without a 'unit'. To retain the old behavior, explicitly cast ints or floats to numeric type before calling to_datetime.\n",
      "  df['Time'] = pd.to_datetime(df['Time'], unit='ms', utc=True)\n"
     ]
    },
    {
     "name": "stdout",
     "output_type": "stream",
     "text": [
      " Fetching BNBUSDT new bar for 2024-01-23 13:20  ⢿                \u001b[K"
     ]
    },
    {
     "name": "stderr",
     "output_type": "stream",
     "text": [
      "/usr/local/lib/python3.10/site-packages/easy_kline/response_to_json.py:33: FutureWarning: The behavior of 'to_datetime' with 'unit' when parsing strings is deprecated. In a future version, strings will be parsed as datetime strings, matching the behavior without a 'unit'. To retain the old behavior, explicitly cast ints or floats to numeric type before calling to_datetime.\n",
      "  df['Time'] = pd.to_datetime(df['Time'], unit='ms', utc=True)\n"
     ]
    },
    {
     "name": "stdout",
     "output_type": "stream",
     "text": [
      " Fetching BNBUSDT new bar for 2024-01-23 13:20  ⡿                "
     ]
    },
    {
     "ename": "KeyboardInterrupt",
     "evalue": "",
     "output_type": "error",
     "traceback": [
      "\u001b[0;31m---------------------------------------------------------------------------\u001b[0m",
      "\u001b[0;31mKeyboardInterrupt\u001b[0m                         Traceback (most recent call last)",
      "Cell \u001b[0;32mIn[4], line 4\u001b[0m\n\u001b[1;32m      1\u001b[0m \u001b[38;5;28;01mimport\u001b[39;00m \u001b[38;5;21;01measy_kline\u001b[39;00m\n\u001b[1;32m      3\u001b[0m \u001b[38;5;66;03m# retrieve BNBUSDT futures trading data with 15-minutes candlestick interval from 2023-01-20 12:00\u001b[39;00m\n\u001b[0;32m----> 4\u001b[0m BNBUSDT \u001b[38;5;241m=\u001b[39m \u001b[43measy_kline\u001b[49m\u001b[38;5;241;43m.\u001b[39;49m\u001b[43mbybit\u001b[49m\u001b[43m(\u001b[49m\u001b[38;5;124;43m'\u001b[39;49m\u001b[38;5;124;43mBNBUSDT\u001b[39;49m\u001b[38;5;124;43m'\u001b[39;49m\u001b[43m,\u001b[49m\u001b[43m \u001b[49m\u001b[38;5;124;43m'\u001b[39;49m\u001b[38;5;124;43m1m\u001b[39;49m\u001b[38;5;124;43m'\u001b[39;49m\u001b[43m,\u001b[49m\u001b[43m \u001b[49m\u001b[38;5;124;43m'\u001b[39;49m\u001b[38;5;124;43m2024-01-20 12:00\u001b[39;49m\u001b[38;5;124;43m'\u001b[39;49m\u001b[43m,\u001b[49m\u001b[43m \u001b[49m\u001b[43mfutures\u001b[49m\u001b[38;5;241;43m=\u001b[39;49m\u001b[38;5;28;43;01mTrue\u001b[39;49;00m\u001b[43m)\u001b[49m \n\u001b[1;32m      6\u001b[0m \u001b[38;5;28mprint\u001b[39m(BNBUSDT)\n",
      "File \u001b[0;32m/usr/local/lib/python3.10/site-packages/easy_kline/exchange.py:85\u001b[0m, in \u001b[0;36mbybit\u001b[0;34m(symbol, time_frame, start_time, futures, retry_count, auto_print)\u001b[0m\n\u001b[1;32m     83\u001b[0m arguments \u001b[38;5;241m=\u001b[39m symbol, time_frame, start_time,futures , retry_count  , auto_print\n\u001b[1;32m     84\u001b[0m bar \u001b[38;5;241m=\u001b[39m Get_Bar(\u001b[38;5;241m*\u001b[39marguments )\n\u001b[0;32m---> 85\u001b[0m data \u001b[38;5;241m=\u001b[39m \u001b[43mbar\u001b[49m\u001b[38;5;241;43m.\u001b[39;49m\u001b[43mget_bars\u001b[49m\u001b[43m(\u001b[49m\u001b[38;5;124;43m'\u001b[39;49m\u001b[38;5;124;43mbybit\u001b[39;49m\u001b[38;5;124;43m'\u001b[39;49m\u001b[43m)\u001b[49m\n\u001b[1;32m     87\u001b[0m \u001b[38;5;28;01mreturn\u001b[39;00m data\n",
      "File \u001b[0;32m/usr/local/lib/python3.10/site-packages/easy_kline/get_bar.py:120\u001b[0m, in \u001b[0;36mGet_Bar.get_bars\u001b[0;34m(self, exchange_name)\u001b[0m\n\u001b[1;32m    117\u001b[0m \u001b[38;5;28;01mtry\u001b[39;00m:\n\u001b[1;32m    119\u001b[0m     sys\u001b[38;5;241m.\u001b[39mstdout\u001b[38;5;241m.\u001b[39mwrite(\u001b[38;5;124m\"\u001b[39m\u001b[38;5;130;01m\\033\u001b[39;00m\u001b[38;5;124m[K\u001b[39m\u001b[38;5;124m\"\u001b[39m)\n\u001b[0;32m--> 120\u001b[0m     \u001b[43mloading_animation\u001b[49m\u001b[43m(\u001b[49m\n\u001b[1;32m    121\u001b[0m \u001b[43m        \u001b[49m\u001b[38;5;124;43mf\u001b[39;49m\u001b[38;5;124;43m'\u001b[39;49m\u001b[38;5;124;43mFetching \u001b[39;49m\u001b[38;5;132;43;01m{\u001b[39;49;00m\u001b[38;5;28;43mself\u001b[39;49m\u001b[38;5;241;43m.\u001b[39;49m\u001b[43msymbol\u001b[49m\u001b[38;5;132;43;01m}\u001b[39;49;00m\u001b[38;5;124;43m new bar for \u001b[39;49m\u001b[38;5;132;43;01m{\u001b[39;49;00m\u001b[38;5;28;43mself\u001b[39;49m\u001b[38;5;241;43m.\u001b[39;49m\u001b[43mstart_time\u001b[49m\u001b[38;5;132;43;01m}\u001b[39;49;00m\u001b[38;5;124;43m'\u001b[39;49m\u001b[43m,\u001b[49m\u001b[43m \u001b[49m\u001b[38;5;241;43m2\u001b[39;49m\u001b[43m)\u001b[49m\n\u001b[1;32m    123\u001b[0m     response_data \u001b[38;5;241m=\u001b[39m exchange\u001b[38;5;241m.\u001b[39mbybit_data() \u001b[38;5;28;01mif\u001b[39;00m exchange_name \u001b[38;5;241m==\u001b[39m \u001b[38;5;124m'\u001b[39m\u001b[38;5;124mbybit\u001b[39m\u001b[38;5;124m'\u001b[39m \u001b[38;5;28;01melse\u001b[39;00m exchange\u001b[38;5;241m.\u001b[39mbinance_data(\n\u001b[1;32m    124\u001b[0m     ) \u001b[38;5;28;01mif\u001b[39;00m exchange_name \u001b[38;5;241m==\u001b[39m \u001b[38;5;124m'\u001b[39m\u001b[38;5;124mbinance\u001b[39m\u001b[38;5;124m'\u001b[39m \u001b[38;5;28;01melse\u001b[39;00m exchange\u001b[38;5;241m.\u001b[39moanda_data() \u001b[38;5;28;01mif\u001b[39;00m exchange_name \u001b[38;5;241m==\u001b[39m \u001b[38;5;124m'\u001b[39m\u001b[38;5;124moanda\u001b[39m\u001b[38;5;124m'\u001b[39m \u001b[38;5;28;01melse\u001b[39;00m \u001b[38;5;28;01mNone\u001b[39;00m\n\u001b[1;32m    126\u001b[0m     \u001b[38;5;28;01mif\u001b[39;00m \u001b[38;5;28mstr\u001b[39m(response_data) \u001b[38;5;241m==\u001b[39m \u001b[38;5;124m'\u001b[39m\u001b[38;5;124m(<Response [200]>, 0)\u001b[39m\u001b[38;5;124m'\u001b[39m \u001b[38;5;129;01mor\u001b[39;00m \u001b[38;5;124m'\u001b[39m\u001b[38;5;124m<Response [200]>\u001b[39m\u001b[38;5;124m'\u001b[39m:\n",
      "File \u001b[0;32m/usr/local/lib/python3.10/site-packages/easy_kline/loading_animation.py:19\u001b[0m, in \u001b[0;36mloading_animation\u001b[0;34m(text, time_loading)\u001b[0m\n\u001b[1;32m     16\u001b[0m         space \u001b[38;5;241m=\u001b[39m \u001b[38;5;124m'\u001b[39m\u001b[38;5;124m \u001b[39m\u001b[38;5;124m'\u001b[39m \u001b[38;5;241m*\u001b[39m \u001b[38;5;241m15\u001b[39m\n\u001b[1;32m     17\u001b[0m         sys\u001b[38;5;241m.\u001b[39mstdout\u001b[38;5;241m.\u001b[39mwrite(\n\u001b[1;32m     18\u001b[0m             \u001b[38;5;124mf\u001b[39m\u001b[38;5;124m'\u001b[39m\u001b[38;5;130;01m\\r\u001b[39;00m\u001b[38;5;124m \u001b[39m\u001b[38;5;132;01m{\u001b[39;00mtext\u001b[38;5;132;01m}\u001b[39;00m\u001b[38;5;124m  \u001b[39m\u001b[38;5;132;01m{\u001b[39;00mchar\u001b[38;5;132;01m}\u001b[39;00m\u001b[38;5;124m \u001b[39m\u001b[38;5;132;01m{\u001b[39;00mspace\u001b[38;5;132;01m}\u001b[39;00m\u001b[38;5;124m'\u001b[39m)\n\u001b[0;32m---> 19\u001b[0m         \u001b[43mtime\u001b[49m\u001b[38;5;241;43m.\u001b[39;49m\u001b[43msleep\u001b[49m\u001b[43m(\u001b[49m\u001b[38;5;241;43m0.1\u001b[39;49m\u001b[43m)\u001b[49m  \u001b[38;5;66;03m# Wait for a short amount of time\u001b[39;00m\n\u001b[1;32m     20\u001b[0m time\u001b[38;5;241m.\u001b[39msleep(\u001b[38;5;241m1\u001b[39m)\n",
      "\u001b[0;31mKeyboardInterrupt\u001b[0m: "
     ]
    }
   ],
   "source": [
    "import easy_kline\n",
    "\n",
    "# retrieve BNBUSDT futures trading data with 15-minutes candlestick interval from 2023-01-20 12:00\n",
    "BNBUSDT = easy_kline.bybit('BNBUSDT', '1m', '2024-01-20 12:00', futures=True) \n",
    "\n",
    "print(BNBUSDT)\n"
   ]
  }
 ],
 "metadata": {
  "kernelspec": {
   "display_name": "Python 3",
   "language": "python",
   "name": "python3"
  },
  "language_info": {
   "codemirror_mode": {
    "name": "ipython",
    "version": 3
   },
   "file_extension": ".py",
   "mimetype": "text/x-python",
   "name": "python",
   "nbconvert_exporter": "python",
   "pygments_lexer": "ipython3",
   "version": "3.10.11"
  }
 },
 "nbformat": 4,
 "nbformat_minor": 2
}
